{
 "cells": [
  {
   "cell_type": "markdown",
   "id": "68199ab5-fd4f-4f19-aee7-eaa0d116c9e0",
   "metadata": {},
   "source": [
    "# Chain \n",
    "\n",
    "## Review\n",
    "\n",
    "we build a simple graph with nodes, normal edges, and conditional edges\n",
    "\n",
    "## Goals \n",
    "\n",
    "Now let's build up to a single chain that combines 4 [concepts](https://python.langchain.com/v0.2/docs/concepts/):\n",
    "\n",
    "* Using [chat messages](https://python.langchain.com/v0.2/docs/concepts/#messages) as our graph state\n",
    "* Using [chat models](https://python.langchain.com/v0.2/docs/concepts/#chat-models) in graph nodes\n",
    "* [binding tools](https://python.langchain.com/v0.2/docs/concepts/#tools)\n",
    "* [Executting tool call](https://python.langchain.com/v0.2/docs/concepts/#functiontool-calling) in graph nodes\n",
    "\n",
    "![Screenshot 2024-08-21 at 9.24.03 AM.png](https://cdn.prod.website-files.com/65b8cd72835ceeacd4449a53/66dbab08dd607b08df5e1101_chain1.png)"
   ]
  },
  {
   "cell_type": "markdown",
   "id": "95b24f04-fb75-4329-856a-c0e43f7f758f",
   "metadata": {},
   "source": [
    "## Messages\n",
    "\n",
    "Chat models can use [`messages`](https://python.langchain.com/v0.2/docs/concepts/#messages), which capture different roles within a conversation. \n",
    "\n",
    "LangChain supports various messages types, inlcuding `HumanMessage`, `AIMessage`, `SystemMessage`, and `ToolMessage`.\n",
    "\n",
    "These represent a message from the user, from chat model, for the chat model to insruct the behavior, and from a tool call.\n",
    "\n",
    "Let's create a list of messages.\n",
    "\n",
    "Each message can be supplied with a few things:\n",
    "\n",
    "* `content` - content of the message\n",
    "* `name` - optionally, a message author\n",
    "* `response_metadata` - optionally, a dict of metadata (e.g., often populated by a model provider for `AIMessages`) \n",
    "\n",
    "\n",
    "\n"
   ]
  },
  {
   "cell_type": "code",
   "execution_count": 1,
   "id": "e04bd71f-ef02-434c-9958-6147c7f53cb2",
   "metadata": {},
   "outputs": [
    {
     "name": "stdout",
     "output_type": "stream",
     "text": [
      "==================================\u001b[1m Ai Message \u001b[0m==================================\n",
      "Name: Model\n",
      "\n",
      "So you said you were researching ocean mammals?\n",
      "================================\u001b[1m Human Message \u001b[0m=================================\n",
      "Name: Lance\n",
      "\n",
      "Yes, that's right.\n",
      "==================================\u001b[1m Ai Message \u001b[0m==================================\n",
      "\n",
      "Great, what would you like to learn about?\n",
      "================================\u001b[1m Human Message \u001b[0m=================================\n",
      "Name: Lance\n",
      "\n",
      "I want to learn about the best place to see Orcas in the US.\n"
     ]
    }
   ],
   "source": [
    "from pprint import pprint\n",
    "from langchain_core.messages import AIMessage, HumanMessage\n",
    "\n",
    "messages = [AIMessage(content=f\"So you said you were researching ocean mammals?\", name=\"Model\")]\n",
    "messages.append(HumanMessage(content=f\"Yes, that's right.\", name=\"Lance\"))\n",
    "messages.append(AIMessage(content=f\"Great, what would you like to learn about?\"))\n",
    "messages.append(HumanMessage(content=f\"I want to learn about the best place to see Orcas in the US.\", name=\"Lance\"))\n",
    "\n",
    "for m in messages:\n",
    "    m.pretty_print()\n"
   ]
  },
  {
   "cell_type": "code",
   "execution_count": 2,
   "id": "82182120-0cdb-472c-a49f-1e89df6974c3",
   "metadata": {},
   "outputs": [
    {
     "data": {
      "text/plain": [
       "[AIMessage(content='So you said you were researching ocean mammals?', additional_kwargs={}, response_metadata={}, name='Model'),\n",
       " HumanMessage(content=\"Yes, that's right.\", additional_kwargs={}, response_metadata={}, name='Lance'),\n",
       " AIMessage(content='Great, what would you like to learn about?', additional_kwargs={}, response_metadata={}),\n",
       " HumanMessage(content='I want to learn about the best place to see Orcas in the US.', additional_kwargs={}, response_metadata={}, name='Lance')]"
      ]
     },
     "execution_count": 2,
     "metadata": {},
     "output_type": "execute_result"
    }
   ],
   "source": [
    "messages"
   ]
  },
  {
   "cell_type": "markdown",
   "id": "a15161b5-8d3e-4b61-a22b-c3e84f52a15e",
   "metadata": {},
   "source": [
    "## Chat Models\n",
    "\n",
    "[Chat models](https://python.langchain.com/v0.2/docs/concepts/#chat-models) can use a sequence of message as input and support message\n",
    "types, as discussed above.\n",
    "\n",
    "There are [many](https://python.langchain.com/v0.2/docs/concepts/#chat-models) to choose from! Let's work with OpenAI\n",
    "\n",
    "Let's check that your `HuggingFace` is set and, if not, you will be asked to enter it."
   ]
  },
  {
   "cell_type": "code",
   "execution_count": 3,
   "id": "aa5a2055-0720-4c0b-8d6c-3498f0399522",
   "metadata": {},
   "outputs": [
    {
     "name": "stdin",
     "output_type": "stream",
     "text": [
      "Enter your Google AI API key:  ········\n"
     ]
    }
   ],
   "source": [
    "import getpass\n",
    "import os\n",
    "\n",
    "if \"GOOGLE_API_KEY\" not in os.environ:\n",
    "    os.environ[\"GOOGLE_API_KEY\"] = getpass.getpass(\"Enter your Google AI API key: \")"
   ]
  },
  {
   "cell_type": "code",
   "execution_count": 4,
   "id": "7b418acd-1544-42cb-b833-09f3b15afc25",
   "metadata": {},
   "outputs": [],
   "source": [
    "from langchain_google_genai import ChatGoogleGenerativeAI\n",
    "\n",
    "llm = ChatGoogleGenerativeAI(\n",
    "    model=\"gemini-1.5-pro\",\n",
    "    temperature=0,\n",
    "    max_tokens=None,\n",
    "    timeout=None,\n",
    "    max_retries=2,\n",
    "    # other params...\n",
    ")"
   ]
  },
  {
   "cell_type": "code",
   "execution_count": 5,
   "id": "eca58c8f-2041-4c1e-9d5f-d46d04bdc567",
   "metadata": {},
   "outputs": [],
   "source": [
    "result = llm.invoke(messages)"
   ]
  },
  {
   "cell_type": "code",
   "execution_count": 6,
   "id": "ddf8e884-8224-4c60-ab88-4f0698715396",
   "metadata": {},
   "outputs": [
    {
     "name": "stdout",
     "output_type": "stream",
     "text": [
      "content='The best place to see orcas in the US depends on the time of year.  There are three main regions known for orca sightings:\\n\\n* **Pacific Northwest (Washington, Oregon, and British Columbia, Canada):** This is generally considered the *best* place to see orcas in the US, particularly the **Salish Sea**, which includes the Puget Sound and surrounding waters.  The best time to see resident orcas here is from **May through September**.  These orcas primarily feed on salmon.\\n\\n* **Alaska:**  Alaska offers opportunities to see transient orcas, which feed on marine mammals.  The best time to see orcas in Alaska is during the **summer months**, particularly in areas like **Southeast Alaska** and **Prince William Sound**.\\n\\n* **California:** Orcas can be seen off the coast of California, particularly **Monterey Bay** and the **Channel Islands**, but sightings are less predictable than in the Pacific Northwest or Alaska.  The best time to see them here is typically during the **spring and fall** when they follow migrating gray whales.\\n\\nTo summarize:\\n\\n* **Best Reliability:**  Puget Sound/Salish Sea (Washington State)\\n* **Best for Transient Orcas (mammal eaters):** Alaska\\n* **Less Predictable but Possible:** California\\n\\nTo help me narrow down the best location *for you*, could you tell me:\\n\\n* **What time of year are you thinking of traveling?**\\n* **Are you interested in seeing resident (fish-eating) orcas or transient (mammal-eating) orcas?**\\n* **What kind of experience are you looking for (whale watching tour, kayaking, from shore)?**\\n\\nKnowing this will help me give you more specific recommendations.\\n' additional_kwargs={} response_metadata={'prompt_feedback': {'block_reason': 0, 'safety_ratings': []}, 'finish_reason': 'STOP', 'safety_ratings': []} id='run-dbfb07f9-b78e-49cb-b455-10e90e6de1f5-0' usage_metadata={'input_tokens': 46, 'output_tokens': 364, 'total_tokens': 410, 'input_token_details': {'cache_read': 0}}\n"
     ]
    }
   ],
   "source": [
    "print(result)"
   ]
  },
  {
   "cell_type": "code",
   "execution_count": 7,
   "id": "8a8a298b-03db-4624-9256-f59ba6946471",
   "metadata": {},
   "outputs": [
    {
     "data": {
      "text/plain": [
       "{'prompt_feedback': {'block_reason': 0, 'safety_ratings': []},\n",
       " 'finish_reason': 'STOP',\n",
       " 'safety_ratings': []}"
      ]
     },
     "execution_count": 7,
     "metadata": {},
     "output_type": "execute_result"
    }
   ],
   "source": [
    "result.response_metadata"
   ]
  },
  {
   "cell_type": "markdown",
   "id": "38f35c2b-91a8-41fb-9d8c-66f31152a84c",
   "metadata": {},
   "source": [
    "## Tools\n",
    "\n",
    "Tools are useful whenever you want a model to interact with external systems.\n",
    "\n",
    "External systems (e.g. APIs) often require a particular input schema or payload, rather than natural language.\n",
    "\n",
    "When we bind an API, for example, as a tool we given the model awareness of the required input schema.\n",
    "\n",
    "The model will call to choose a tool based upon the natural language input from the user.\n",
    "\n",
    "And, it will return an output that adhere's to the tool's schema.\n",
    "\n",
    "[Many LLM providers support tool calling](https://python.langchain.com/v0.1/docs/integrations/chat/) and [tool calling interface](https://blog.langchain.dev/improving-core-tool-interfaces-and-docs-in-langchain/) in langchain is simple.\n",
    "\n",
    "You can simply pass any Python `function` `ChatModel.bind_tools(function)`\n",
    "\n",
    "![Screenshot 2024-08-19 at 7.46.28 PM.png](https://cdn.prod.website-files.com/65b8cd72835ceeacd4449a53/66dbab08dc1c17a7a57f9960_chain2.png)"
   ]
  },
  {
   "cell_type": "markdown",
   "id": "61bdbd68-0a4c-47ae-836f-b2926075754b",
   "metadata": {},
   "source": [
    "Let's showcase a simple example of toolcalling!\n",
    "\n",
    "The `multiply` function is our tool."
   ]
  },
  {
   "cell_type": "code",
   "execution_count": 8,
   "id": "c7004f72-767e-4cc0-af06-c53217f85c13",
   "metadata": {},
   "outputs": [],
   "source": [
    "def multiply(a:int, b:int) -> int:\n",
    "    \"\"\"Multiply a and b \n",
    "\n",
    "    Args:\n",
    "        a: first int\n",
    "        b: second int\n",
    "\n",
    "    \"\"\"\n",
    "\n",
    "    return a * b \n",
    "\n",
    "llm_with_tools = llm.bind_tools([multiply])"
   ]
  },
  {
   "cell_type": "markdown",
   "id": "8fa3c1ab-354c-4eb7-a5a9-54049a8225ec",
   "metadata": {},
   "source": [
    "If we pass an input e.g., `\"What is 2 multiplied by 3\"` - we see a tool called returned\n",
    "\n",
    "The tool call has specific arguments that match the input schema of our function along with the name of the function to call.\n",
    "\n",
    "```\n",
    "{'arguments': '{\"a\":2, \"b\":3}', 'name': 'multiply'}\n",
    "\n",
    "```\n",
    "\n"
   ]
  },
  {
   "cell_type": "code",
   "execution_count": 9,
   "id": "0a326e30-6be6-4dd1-8424-25a0311f454e",
   "metadata": {},
   "outputs": [
    {
     "data": {
      "text/plain": [
       "AIMessage(content='', additional_kwargs={'function_call': {'name': 'multiply', 'arguments': '{\"a\": 2.0, \"b\": 3.0}'}}, response_metadata={'prompt_feedback': {'block_reason': 0, 'safety_ratings': []}, 'finish_reason': 'STOP', 'safety_ratings': []}, id='run-5d2400ca-5d87-4612-af93-b4e3c2e0ee7a-0', tool_calls=[{'name': 'multiply', 'args': {'a': 2.0, 'b': 3.0}, 'id': '8c22377c-8fa0-4ed5-96c0-714c6079aa21', 'type': 'tool_call'}], usage_metadata={'input_tokens': 58, 'output_tokens': 3, 'total_tokens': 61, 'input_token_details': {'cache_read': 0}})"
      ]
     },
     "execution_count": 9,
     "metadata": {},
     "output_type": "execute_result"
    }
   ],
   "source": [
    "tool_call = llm_with_tools.invoke([HumanMessage(content=f\"What is 2 multiplied by 3?\", name=\"Ali\")])\n",
    "tool_call"
   ]
  },
  {
   "cell_type": "code",
   "execution_count": 13,
   "id": "1898b59e-f085-492d-8916-eddf47c50aa1",
   "metadata": {},
   "outputs": [
    {
     "data": {
      "text/plain": [
       "{'name': 'multiply', 'arguments': '{\"a\": 2.0, \"b\": 3.0}'}"
      ]
     },
     "execution_count": 13,
     "metadata": {},
     "output_type": "execute_result"
    }
   ],
   "source": [
    "tool_call.additional_kwargs['function_call']"
   ]
  },
  {
   "cell_type": "markdown",
   "id": "ac10b9e7-6bda-4abb-a3bf-5079d18e0f4c",
   "metadata": {},
   "source": [
    "## Using messages as a state\n",
    "\n",
    "With these foundations in place, we can now use [`messages`](https://python.langchain.com/v0.2/docs/concepts/#messages) in our graph state.\n",
    "\n",
    "Let's define our state, `MessageState`, as a `TypeDict` with a single key: `messages`.\n",
    "\n",
    "`messages` is simply a list of messages, as we defined above (e.g., `HumanMessage`, etc)."
   ]
  },
  {
   "cell_type": "code",
   "execution_count": 14,
   "id": "df2ca877-bdb7-47f3-b031-151e76f40fac",
   "metadata": {},
   "outputs": [],
   "source": [
    "from typing_extensions import TypedDict \n",
    "from langchain_core.messages import AnyMessage\n",
    "\n",
    "class MessageState(TypedDict):\n",
    "    messages: list[AnyMessage]"
   ]
  },
  {
   "cell_type": "markdown",
   "id": "9b582485-ab46-4a73-bf7b-f83b10e9dad2",
   "metadata": {},
   "source": [
    "## Reducers\n",
    "\n",
    "Now, we have a minor problem!\n",
    "\n",
    "As we discussed, each node will return a new value for our state key `messages`.\n",
    "\n",
    "But, this new value will [will override](https://langchain-ai.github.io/langgraph/concepts/low_level/#reducers) the prior `messages` value.\n",
    "\n",
    "As our graph runs, we want to **append** messages to our `messages` state key\n",
    "\n",
    "We can use [render functions](https://langchain-ai.github.io/langgraph/concepts/low_level/#reducers) to address this.\n",
    "\n",
    "Reducers allow us to specify how state updaters are performed.\n",
    "\n",
    "If no reducer function is specified, then it is assumed that updates to the key should **override** it as we saw before.\n",
    "\n",
    "But, to append, messages, we can use pre-built `add-messages` reducers.\n",
    "\n",
    "This ensures that any messages are appended to the existing list of messages.\n",
    "\n",
    "We simply need to annotate our `messages` key with the `add messages` reducer function as metadata.\n"
   ]
  },
  {
   "cell_type": "code",
   "execution_count": 17,
   "id": "9e0e5440-0e80-41cb-8f71-5936e567fc3a",
   "metadata": {},
   "outputs": [],
   "source": [
    "from typing import Annotated\n",
    "from langgraph.graph.message import add_messages\n",
    "\n",
    "class MessageState(TypedDict):\n",
    "    messages: Annotated[list[AnyMessage], add_messages]"
   ]
  },
  {
   "cell_type": "markdown",
   "id": "b1857e79-0301-46e3-9595-2a469df65cca",
   "metadata": {},
   "source": [
    "Since having a list of messages in graph state is so common, LangGraph has a pre-built `MessagesState`!\n",
    "\n",
    "`MessagesState` is defined:\n",
    "\n",
    "* With a pre-built single `messages` key.\n",
    "* This is a list of `AnyMessage` objects.\n",
    "* It uses the `add_messages` reducer\n",
    "\n",
    "We'll usually use `MessagesState` because it is less verbose then defining a custom `TypedDict`, as shown above."
   ]
  },
  {
   "cell_type": "code",
   "execution_count": 18,
   "id": "0d36cbdf-50cc-47f4-b114-4aa03bfe4a1d",
   "metadata": {},
   "outputs": [],
   "source": [
    "from langgraph.graph import MessagesState\n",
    "\n",
    "class MessagesState(MessagesState):\n",
    "    # Add any keys needed beyond messages, which is pre-built\n",
    "    pass"
   ]
  },
  {
   "cell_type": "markdown",
   "id": "9b52d8bd-e908-4589-aae5-01459589c5cf",
   "metadata": {},
   "source": [
    "To go bit deeper, we can see how the `add_messages` reducer works in isolation."
   ]
  },
  {
   "cell_type": "code",
   "execution_count": 19,
   "id": "f419b10c-7012-481e-8f71-5683302a7045",
   "metadata": {},
   "outputs": [
    {
     "data": {
      "text/plain": [
       "[AIMessage(content='Hello, How can I assist you?', additional_kwargs={}, response_metadata={}, name='Model', id='f02f8b5a-015c-47bd-b950-04dc78a84eb7'),\n",
       " HumanMessage(content=\"I'm looking for information on marine biology.\", additional_kwargs={}, response_metadata={}, name='Ali', id='0b75a38e-58f3-4efe-b3d3-59426ff76fd7'),\n",
       " AIMessage(content='Sure, I can help with that. What specifically are you interested in?', additional_kwargs={}, response_metadata={}, name='Model', id='896fc5f2-5fd0-45d4-a255-bdb9c0eef909')]"
      ]
     },
     "execution_count": 19,
     "metadata": {},
     "output_type": "execute_result"
    }
   ],
   "source": [
    "# initial state\n",
    "initial_messages = [AIMessage(content=\"Hello, How can I assist you?\", name=\"Model\"),\n",
    "                   HumanMessage(content=\"I'm looking for information on marine biology.\", name=\"Ali\")]\n",
    "\n",
    "# New message to add\n",
    "\n",
    "new_message = AIMessage(content=\"Sure, I can help with that. What specifically are you interested in?\", name=\"Model\")\n",
    "\n",
    "# Test\n",
    "add_messages(initial_messages, new_message)\n"
   ]
  },
  {
   "cell_type": "markdown",
   "id": "790d38ed-ed2b-47a0-bbbd-4f904d8f2815",
   "metadata": {},
   "source": [
    "## Our graph\n",
    "\n",
    "Now, let's use `MessagesState` with a graph."
   ]
  },
  {
   "cell_type": "code",
   "execution_count": 21,
   "id": "cbc9e35b-2120-4213-91d2-03fc17a158a6",
   "metadata": {},
   "outputs": [
    {
     "data": {
      "image/png": "[encoded data removed]",
      "text/plain": [
       "<IPython.core.display.Image object>"
      ]
     },
     "metadata": {},
     "output_type": "display_data"
    }
   ],
   "source": [
    "from IPython.display import Image, display\n",
    "from langgraph.graph import StateGraph, START, END \n",
    "\n",
    "# Node \n",
    "def tool_calling_llm(state: MessageState):\n",
    "    return {\"messages\": [llm_with_tools.invoke(state[\"messages\"])]}\n",
    "\n",
    "# Build graph\n",
    "builder = StateGraph(MessageState)\n",
    "builder.add_node(\"tool_calling_llm\", tool_calling_llm)\n",
    "builder.add_edge(START, \"tool_calling_llm\")\n",
    "builder.add_edge(\"tool_calling_llm\", END)\n",
    "graph = builder.compile()\n",
    "\n",
    "# View\n",
    "display(Image(graph.get_graph().draw_mermaid_png()))"
   ]
  },
  {
   "cell_type": "markdown",
   "id": "53a59896-cc9b-49da-8e1c-08720e45d363",
   "metadata": {},
   "source": [
    "If we pass `Hello` the llm responds without any tools call"
   ]
  },
  {
   "cell_type": "code",
   "execution_count": 22,
   "id": "04d4069b-52c9-499f-afce-e93f0f6ca4cd",
   "metadata": {},
   "outputs": [
    {
     "name": "stdout",
     "output_type": "stream",
     "text": [
      "================================\u001b[1m Human Message \u001b[0m=================================\n",
      "\n",
      "Hello!\n",
      "==================================\u001b[1m Ai Message \u001b[0m==================================\n",
      "\n",
      "Hello there! How can I help you today?\n"
     ]
    }
   ],
   "source": [
    "messages = graph.invoke({\"messages\": HumanMessage(content=\"Hello!\")})\n",
    "for m in messages[\"messages\"]:\n",
    "    m.pretty_print()\n",
    "    "
   ]
  },
  {
   "cell_type": "markdown",
   "id": "fa6b2207-1c1c-48e9-aba3-aa50a0137c4b",
   "metadata": {},
   "source": [
    "The LLM chooses to use a tool when it determines that the input or task requires the functionality provided by the tool. "
   ]
  },
  {
   "cell_type": "code",
   "execution_count": 23,
   "id": "80407f5d-b7d5-472e-921e-edb26699a8e6",
   "metadata": {},
   "outputs": [
    {
     "name": "stdout",
     "output_type": "stream",
     "text": [
      "================================\u001b[1m Human Message \u001b[0m=================================\n",
      "\n",
      "Multiply 2 and 3\n",
      "==================================\u001b[1m Ai Message \u001b[0m==================================\n",
      "Tool Calls:\n",
      "  multiply (84151bdb-385d-47a9-8e20-b6ff62a242c3)\n",
      " Call ID: 84151bdb-385d-47a9-8e20-b6ff62a242c3\n",
      "  Args:\n",
      "    a: 2.0\n",
      "    b: 3.0\n"
     ]
    }
   ],
   "source": [
    "messages = graph.invoke({\"messages\": HumanMessage(content=\"Multiply 2 and 3\")})\n",
    "for m in messages['messages']:\n",
    "    m.pretty_print()"
   ]
  },
  {
   "cell_type": "code",
   "execution_count": null,
   "id": "7efd57e0-60c6-4ae2-a8f5-538cb0d6d9d5",
   "metadata": {},
   "outputs": [],
   "source": []
  }
 ],
 "metadata": {
  "kernelspec": {
   "display_name": "Python [conda env:base] *",
   "language": "python",
   "name": "conda-base-py"
  },
  "language_info": {
   "codemirror_mode": {
    "name": "ipython",
    "version": 3
   },
   "file_extension": ".py",
   "mimetype": "text/x-python",
   "name": "python",
   "nbconvert_exporter": "python",
   "pygments_lexer": "ipython3",
   "version": "3.12.7"
  }
 },
 "nbformat": 4,
 "nbformat_minor": 5
}
